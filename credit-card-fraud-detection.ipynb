{
 "cells": [
  {
   "cell_type": "code",
   "execution_count": 1,
   "id": "161be2c0",
   "metadata": {
    "_cell_guid": "b1076dfc-b9ad-4769-8c92-a6c4dae69d19",
    "_uuid": "8f2839f25d086af736a60e9eeb907d3b93b6e0e5",
    "execution": {
     "iopub.execute_input": "2024-03-03T06:01:56.397344Z",
     "iopub.status.busy": "2024-03-03T06:01:56.396776Z",
     "iopub.status.idle": "2024-03-03T06:01:57.383284Z",
     "shell.execute_reply": "2024-03-03T06:01:57.381976Z"
    },
    "papermill": {
     "duration": 0.996745,
     "end_time": "2024-03-03T06:01:57.385208",
     "exception": false,
     "start_time": "2024-03-03T06:01:56.388463",
     "status": "completed"
    },
    "tags": []
   },
   "outputs": [
    {
     "name": "stdout",
     "output_type": "stream",
     "text": [
      "/kaggle/input/creditcardfraud/creditcard.csv\n"
     ]
    }
   ],
   "source": [
    "# This Python 3 environment comes with many helpful analytics libraries installed\n",
    "# It is defined by the kaggle/python Docker image: https://github.com/kaggle/docker-python\n",
    "# For example, here's several helpful packages to load\n",
    "\n",
    "import numpy as np # linear algebra\n",
    "import pandas as pd # data processing, CSV file I/O (e.g. pd.read_csv)\n",
    "\n",
    "# Input data files are available in the read-only \"../input/\" directory\n",
    "# For example, running this (by clicking run or pressing Shift+Enter) will list all files under the input directory\n",
    "\n",
    "import os\n",
    "for dirname, _, filenames in os.walk('/kaggle/input'):\n",
    "    for filename in filenames:\n",
    "        print(os.path.join(dirname, filename))\n",
    "\n",
    "# You can write up to 20GB to the current directory (/kaggle/working/) that gets preserved as output when you create a version using \"Save & Run All\" \n",
    "# You can also write temporary files to /kaggle/temp/, but they won't be saved outside of the current session"
   ]
  },
  {
   "cell_type": "code",
   "execution_count": 2,
   "id": "ccc71527",
   "metadata": {
    "execution": {
     "iopub.execute_input": "2024-03-03T06:01:57.399130Z",
     "iopub.status.busy": "2024-03-03T06:01:57.398645Z",
     "iopub.status.idle": "2024-03-03T06:01:59.150793Z",
     "shell.execute_reply": "2024-03-03T06:01:59.149627Z"
    },
    "papermill": {
     "duration": 1.761982,
     "end_time": "2024-03-03T06:01:59.153310",
     "exception": false,
     "start_time": "2024-03-03T06:01:57.391328",
     "status": "completed"
    },
    "tags": []
   },
   "outputs": [],
   "source": [
    "import numpy as np\n",
    "import pandas as pd\n",
    "from sklearn.model_selection import train_test_split\n",
    "from sklearn.linear_model import LogisticRegression \n",
    "from sklearn.metrics import accuracy_score, f1_score, confusion_matrix, classification_report \n"
   ]
  },
  {
   "cell_type": "code",
   "execution_count": 3,
   "id": "b7f667ff",
   "metadata": {
    "execution": {
     "iopub.execute_input": "2024-03-03T06:01:59.167143Z",
     "iopub.status.busy": "2024-03-03T06:01:59.166763Z",
     "iopub.status.idle": "2024-03-03T06:02:03.279944Z",
     "shell.execute_reply": "2024-03-03T06:02:03.278374Z"
    },
    "papermill": {
     "duration": 4.123074,
     "end_time": "2024-03-03T06:02:03.282442",
     "exception": false,
     "start_time": "2024-03-03T06:01:59.159368",
     "status": "completed"
    },
    "tags": []
   },
   "outputs": [],
   "source": [
    "data= pd.read_csv('/kaggle/input/creditcardfraud/creditcard.csv')"
   ]
  },
  {
   "cell_type": "code",
   "execution_count": 4,
   "id": "808f1bba",
   "metadata": {
    "execution": {
     "iopub.execute_input": "2024-03-03T06:02:03.297228Z",
     "iopub.status.busy": "2024-03-03T06:02:03.296824Z",
     "iopub.status.idle": "2024-03-03T06:02:03.332385Z",
     "shell.execute_reply": "2024-03-03T06:02:03.331210Z"
    },
    "papermill": {
     "duration": 0.045153,
     "end_time": "2024-03-03T06:02:03.334227",
     "exception": false,
     "start_time": "2024-03-03T06:02:03.289074",
     "status": "completed"
    },
    "tags": []
   },
   "outputs": [
    {
     "data": {
      "text/html": [
       "<div>\n",
       "<style scoped>\n",
       "    .dataframe tbody tr th:only-of-type {\n",
       "        vertical-align: middle;\n",
       "    }\n",
       "\n",
       "    .dataframe tbody tr th {\n",
       "        vertical-align: top;\n",
       "    }\n",
       "\n",
       "    .dataframe thead th {\n",
       "        text-align: right;\n",
       "    }\n",
       "</style>\n",
       "<table border=\"1\" class=\"dataframe\">\n",
       "  <thead>\n",
       "    <tr style=\"text-align: right;\">\n",
       "      <th></th>\n",
       "      <th>Time</th>\n",
       "      <th>V1</th>\n",
       "      <th>V2</th>\n",
       "      <th>V3</th>\n",
       "      <th>V4</th>\n",
       "      <th>V5</th>\n",
       "      <th>V6</th>\n",
       "      <th>V7</th>\n",
       "      <th>V8</th>\n",
       "      <th>V9</th>\n",
       "      <th>...</th>\n",
       "      <th>V21</th>\n",
       "      <th>V22</th>\n",
       "      <th>V23</th>\n",
       "      <th>V24</th>\n",
       "      <th>V25</th>\n",
       "      <th>V26</th>\n",
       "      <th>V27</th>\n",
       "      <th>V28</th>\n",
       "      <th>Amount</th>\n",
       "      <th>Class</th>\n",
       "    </tr>\n",
       "  </thead>\n",
       "  <tbody>\n",
       "    <tr>\n",
       "      <th>0</th>\n",
       "      <td>0.0</td>\n",
       "      <td>-1.359807</td>\n",
       "      <td>-0.072781</td>\n",
       "      <td>2.536347</td>\n",
       "      <td>1.378155</td>\n",
       "      <td>-0.338321</td>\n",
       "      <td>0.462388</td>\n",
       "      <td>0.239599</td>\n",
       "      <td>0.098698</td>\n",
       "      <td>0.363787</td>\n",
       "      <td>...</td>\n",
       "      <td>-0.018307</td>\n",
       "      <td>0.277838</td>\n",
       "      <td>-0.110474</td>\n",
       "      <td>0.066928</td>\n",
       "      <td>0.128539</td>\n",
       "      <td>-0.189115</td>\n",
       "      <td>0.133558</td>\n",
       "      <td>-0.021053</td>\n",
       "      <td>149.62</td>\n",
       "      <td>0</td>\n",
       "    </tr>\n",
       "    <tr>\n",
       "      <th>1</th>\n",
       "      <td>0.0</td>\n",
       "      <td>1.191857</td>\n",
       "      <td>0.266151</td>\n",
       "      <td>0.166480</td>\n",
       "      <td>0.448154</td>\n",
       "      <td>0.060018</td>\n",
       "      <td>-0.082361</td>\n",
       "      <td>-0.078803</td>\n",
       "      <td>0.085102</td>\n",
       "      <td>-0.255425</td>\n",
       "      <td>...</td>\n",
       "      <td>-0.225775</td>\n",
       "      <td>-0.638672</td>\n",
       "      <td>0.101288</td>\n",
       "      <td>-0.339846</td>\n",
       "      <td>0.167170</td>\n",
       "      <td>0.125895</td>\n",
       "      <td>-0.008983</td>\n",
       "      <td>0.014724</td>\n",
       "      <td>2.69</td>\n",
       "      <td>0</td>\n",
       "    </tr>\n",
       "    <tr>\n",
       "      <th>2</th>\n",
       "      <td>1.0</td>\n",
       "      <td>-1.358354</td>\n",
       "      <td>-1.340163</td>\n",
       "      <td>1.773209</td>\n",
       "      <td>0.379780</td>\n",
       "      <td>-0.503198</td>\n",
       "      <td>1.800499</td>\n",
       "      <td>0.791461</td>\n",
       "      <td>0.247676</td>\n",
       "      <td>-1.514654</td>\n",
       "      <td>...</td>\n",
       "      <td>0.247998</td>\n",
       "      <td>0.771679</td>\n",
       "      <td>0.909412</td>\n",
       "      <td>-0.689281</td>\n",
       "      <td>-0.327642</td>\n",
       "      <td>-0.139097</td>\n",
       "      <td>-0.055353</td>\n",
       "      <td>-0.059752</td>\n",
       "      <td>378.66</td>\n",
       "      <td>0</td>\n",
       "    </tr>\n",
       "    <tr>\n",
       "      <th>3</th>\n",
       "      <td>1.0</td>\n",
       "      <td>-0.966272</td>\n",
       "      <td>-0.185226</td>\n",
       "      <td>1.792993</td>\n",
       "      <td>-0.863291</td>\n",
       "      <td>-0.010309</td>\n",
       "      <td>1.247203</td>\n",
       "      <td>0.237609</td>\n",
       "      <td>0.377436</td>\n",
       "      <td>-1.387024</td>\n",
       "      <td>...</td>\n",
       "      <td>-0.108300</td>\n",
       "      <td>0.005274</td>\n",
       "      <td>-0.190321</td>\n",
       "      <td>-1.175575</td>\n",
       "      <td>0.647376</td>\n",
       "      <td>-0.221929</td>\n",
       "      <td>0.062723</td>\n",
       "      <td>0.061458</td>\n",
       "      <td>123.50</td>\n",
       "      <td>0</td>\n",
       "    </tr>\n",
       "    <tr>\n",
       "      <th>4</th>\n",
       "      <td>2.0</td>\n",
       "      <td>-1.158233</td>\n",
       "      <td>0.877737</td>\n",
       "      <td>1.548718</td>\n",
       "      <td>0.403034</td>\n",
       "      <td>-0.407193</td>\n",
       "      <td>0.095921</td>\n",
       "      <td>0.592941</td>\n",
       "      <td>-0.270533</td>\n",
       "      <td>0.817739</td>\n",
       "      <td>...</td>\n",
       "      <td>-0.009431</td>\n",
       "      <td>0.798278</td>\n",
       "      <td>-0.137458</td>\n",
       "      <td>0.141267</td>\n",
       "      <td>-0.206010</td>\n",
       "      <td>0.502292</td>\n",
       "      <td>0.219422</td>\n",
       "      <td>0.215153</td>\n",
       "      <td>69.99</td>\n",
       "      <td>0</td>\n",
       "    </tr>\n",
       "  </tbody>\n",
       "</table>\n",
       "<p>5 rows × 31 columns</p>\n",
       "</div>"
      ],
      "text/plain": [
       "   Time        V1        V2        V3        V4        V5        V6        V7  \\\n",
       "0   0.0 -1.359807 -0.072781  2.536347  1.378155 -0.338321  0.462388  0.239599   \n",
       "1   0.0  1.191857  0.266151  0.166480  0.448154  0.060018 -0.082361 -0.078803   \n",
       "2   1.0 -1.358354 -1.340163  1.773209  0.379780 -0.503198  1.800499  0.791461   \n",
       "3   1.0 -0.966272 -0.185226  1.792993 -0.863291 -0.010309  1.247203  0.237609   \n",
       "4   2.0 -1.158233  0.877737  1.548718  0.403034 -0.407193  0.095921  0.592941   \n",
       "\n",
       "         V8        V9  ...       V21       V22       V23       V24       V25  \\\n",
       "0  0.098698  0.363787  ... -0.018307  0.277838 -0.110474  0.066928  0.128539   \n",
       "1  0.085102 -0.255425  ... -0.225775 -0.638672  0.101288 -0.339846  0.167170   \n",
       "2  0.247676 -1.514654  ...  0.247998  0.771679  0.909412 -0.689281 -0.327642   \n",
       "3  0.377436 -1.387024  ... -0.108300  0.005274 -0.190321 -1.175575  0.647376   \n",
       "4 -0.270533  0.817739  ... -0.009431  0.798278 -0.137458  0.141267 -0.206010   \n",
       "\n",
       "        V26       V27       V28  Amount  Class  \n",
       "0 -0.189115  0.133558 -0.021053  149.62      0  \n",
       "1  0.125895 -0.008983  0.014724    2.69      0  \n",
       "2 -0.139097 -0.055353 -0.059752  378.66      0  \n",
       "3 -0.221929  0.062723  0.061458  123.50      0  \n",
       "4  0.502292  0.219422  0.215153   69.99      0  \n",
       "\n",
       "[5 rows x 31 columns]"
      ]
     },
     "execution_count": 4,
     "metadata": {},
     "output_type": "execute_result"
    }
   ],
   "source": [
    "data.head()"
   ]
  },
  {
   "cell_type": "code",
   "execution_count": 5,
   "id": "e070a073",
   "metadata": {
    "execution": {
     "iopub.execute_input": "2024-03-03T06:02:03.349197Z",
     "iopub.status.busy": "2024-03-03T06:02:03.347729Z",
     "iopub.status.idle": "2024-03-03T06:02:03.385338Z",
     "shell.execute_reply": "2024-03-03T06:02:03.384010Z"
    },
    "papermill": {
     "duration": 0.047026,
     "end_time": "2024-03-03T06:02:03.387502",
     "exception": false,
     "start_time": "2024-03-03T06:02:03.340476",
     "status": "completed"
    },
    "tags": []
   },
   "outputs": [
    {
     "name": "stdout",
     "output_type": "stream",
     "text": [
      "<class 'pandas.core.frame.DataFrame'>\n",
      "RangeIndex: 284807 entries, 0 to 284806\n",
      "Data columns (total 31 columns):\n",
      " #   Column  Non-Null Count   Dtype  \n",
      "---  ------  --------------   -----  \n",
      " 0   Time    284807 non-null  float64\n",
      " 1   V1      284807 non-null  float64\n",
      " 2   V2      284807 non-null  float64\n",
      " 3   V3      284807 non-null  float64\n",
      " 4   V4      284807 non-null  float64\n",
      " 5   V5      284807 non-null  float64\n",
      " 6   V6      284807 non-null  float64\n",
      " 7   V7      284807 non-null  float64\n",
      " 8   V8      284807 non-null  float64\n",
      " 9   V9      284807 non-null  float64\n",
      " 10  V10     284807 non-null  float64\n",
      " 11  V11     284807 non-null  float64\n",
      " 12  V12     284807 non-null  float64\n",
      " 13  V13     284807 non-null  float64\n",
      " 14  V14     284807 non-null  float64\n",
      " 15  V15     284807 non-null  float64\n",
      " 16  V16     284807 non-null  float64\n",
      " 17  V17     284807 non-null  float64\n",
      " 18  V18     284807 non-null  float64\n",
      " 19  V19     284807 non-null  float64\n",
      " 20  V20     284807 non-null  float64\n",
      " 21  V21     284807 non-null  float64\n",
      " 22  V22     284807 non-null  float64\n",
      " 23  V23     284807 non-null  float64\n",
      " 24  V24     284807 non-null  float64\n",
      " 25  V25     284807 non-null  float64\n",
      " 26  V26     284807 non-null  float64\n",
      " 27  V27     284807 non-null  float64\n",
      " 28  V28     284807 non-null  float64\n",
      " 29  Amount  284807 non-null  float64\n",
      " 30  Class   284807 non-null  int64  \n",
      "dtypes: float64(30), int64(1)\n",
      "memory usage: 67.4 MB\n"
     ]
    }
   ],
   "source": [
    "data.info()"
   ]
  },
  {
   "cell_type": "code",
   "execution_count": 6,
   "id": "fb2fb220",
   "metadata": {
    "execution": {
     "iopub.execute_input": "2024-03-03T06:02:03.403741Z",
     "iopub.status.busy": "2024-03-03T06:02:03.403174Z",
     "iopub.status.idle": "2024-03-03T06:02:03.417851Z",
     "shell.execute_reply": "2024-03-03T06:02:03.416597Z"
    },
    "papermill": {
     "duration": 0.025662,
     "end_time": "2024-03-03T06:02:03.420297",
     "exception": false,
     "start_time": "2024-03-03T06:02:03.394635",
     "status": "completed"
    },
    "tags": []
   },
   "outputs": [
    {
     "data": {
      "text/plain": [
       "Time      0\n",
       "V1        0\n",
       "V2        0\n",
       "V3        0\n",
       "V4        0\n",
       "V5        0\n",
       "V6        0\n",
       "V7        0\n",
       "V8        0\n",
       "V9        0\n",
       "V10       0\n",
       "V11       0\n",
       "V12       0\n",
       "V13       0\n",
       "V14       0\n",
       "V15       0\n",
       "V16       0\n",
       "V17       0\n",
       "V18       0\n",
       "V19       0\n",
       "V20       0\n",
       "V21       0\n",
       "V22       0\n",
       "V23       0\n",
       "V24       0\n",
       "V25       0\n",
       "V26       0\n",
       "V27       0\n",
       "V28       0\n",
       "Amount    0\n",
       "Class     0\n",
       "dtype: int64"
      ]
     },
     "execution_count": 6,
     "metadata": {},
     "output_type": "execute_result"
    }
   ],
   "source": [
    "data.isnull().sum()"
   ]
  },
  {
   "cell_type": "code",
   "execution_count": 7,
   "id": "b503c68d",
   "metadata": {
    "execution": {
     "iopub.execute_input": "2024-03-03T06:02:03.436002Z",
     "iopub.status.busy": "2024-03-03T06:02:03.435660Z",
     "iopub.status.idle": "2024-03-03T06:02:03.447607Z",
     "shell.execute_reply": "2024-03-03T06:02:03.446593Z"
    },
    "papermill": {
     "duration": 0.02219,
     "end_time": "2024-03-03T06:02:03.450016",
     "exception": false,
     "start_time": "2024-03-03T06:02:03.427826",
     "status": "completed"
    },
    "tags": []
   },
   "outputs": [
    {
     "data": {
      "text/plain": [
       "Class\n",
       "0    284315\n",
       "1       492\n",
       "Name: count, dtype: int64"
      ]
     },
     "execution_count": 7,
     "metadata": {},
     "output_type": "execute_result"
    }
   ],
   "source": [
    "data['Class'].value_counts()"
   ]
  },
  {
   "cell_type": "code",
   "execution_count": 8,
   "id": "8bf384b6",
   "metadata": {
    "execution": {
     "iopub.execute_input": "2024-03-03T06:02:03.465359Z",
     "iopub.status.busy": "2024-03-03T06:02:03.465000Z",
     "iopub.status.idle": "2024-03-03T06:02:03.492078Z",
     "shell.execute_reply": "2024-03-03T06:02:03.491428Z"
    },
    "papermill": {
     "duration": 0.037649,
     "end_time": "2024-03-03T06:02:03.494184",
     "exception": false,
     "start_time": "2024-03-03T06:02:03.456535",
     "status": "completed"
    },
    "tags": []
   },
   "outputs": [],
   "source": [
    "legit=data[data.Class==0]\n",
    "fraud=data[data.Class==1]"
   ]
  },
  {
   "cell_type": "code",
   "execution_count": 9,
   "id": "82b03d75",
   "metadata": {
    "execution": {
     "iopub.execute_input": "2024-03-03T06:02:03.508977Z",
     "iopub.status.busy": "2024-03-03T06:02:03.508448Z",
     "iopub.status.idle": "2024-03-03T06:02:03.513626Z",
     "shell.execute_reply": "2024-03-03T06:02:03.512237Z"
    },
    "papermill": {
     "duration": 0.015247,
     "end_time": "2024-03-03T06:02:03.516047",
     "exception": false,
     "start_time": "2024-03-03T06:02:03.500800",
     "status": "completed"
    },
    "tags": []
   },
   "outputs": [
    {
     "name": "stdout",
     "output_type": "stream",
     "text": [
      "(284315, 31)\n",
      "(492, 31)\n"
     ]
    }
   ],
   "source": [
    "print(legit.shape)\n",
    "print(fraud.shape)"
   ]
  },
  {
   "cell_type": "code",
   "execution_count": 10,
   "id": "7ad9c15a",
   "metadata": {
    "execution": {
     "iopub.execute_input": "2024-03-03T06:02:03.531051Z",
     "iopub.status.busy": "2024-03-03T06:02:03.530559Z",
     "iopub.status.idle": "2024-03-03T06:02:03.551974Z",
     "shell.execute_reply": "2024-03-03T06:02:03.551334Z"
    },
    "papermill": {
     "duration": 0.031227,
     "end_time": "2024-03-03T06:02:03.554035",
     "exception": false,
     "start_time": "2024-03-03T06:02:03.522808",
     "status": "completed"
    },
    "tags": []
   },
   "outputs": [
    {
     "data": {
      "text/plain": [
       "count    284315.000000\n",
       "mean         88.291022\n",
       "std         250.105092\n",
       "min           0.000000\n",
       "25%           5.650000\n",
       "50%          22.000000\n",
       "75%          77.050000\n",
       "max       25691.160000\n",
       "Name: Amount, dtype: float64"
      ]
     },
     "execution_count": 10,
     "metadata": {},
     "output_type": "execute_result"
    }
   ],
   "source": [
    "legit.Amount.describe()"
   ]
  },
  {
   "cell_type": "code",
   "execution_count": 11,
   "id": "016096bd",
   "metadata": {
    "execution": {
     "iopub.execute_input": "2024-03-03T06:02:03.570322Z",
     "iopub.status.busy": "2024-03-03T06:02:03.569287Z",
     "iopub.status.idle": "2024-03-03T06:02:03.579067Z",
     "shell.execute_reply": "2024-03-03T06:02:03.578068Z"
    },
    "papermill": {
     "duration": 0.019406,
     "end_time": "2024-03-03T06:02:03.580995",
     "exception": false,
     "start_time": "2024-03-03T06:02:03.561589",
     "status": "completed"
    },
    "tags": []
   },
   "outputs": [
    {
     "data": {
      "text/plain": [
       "count     492.000000\n",
       "mean      122.211321\n",
       "std       256.683288\n",
       "min         0.000000\n",
       "25%         1.000000\n",
       "50%         9.250000\n",
       "75%       105.890000\n",
       "max      2125.870000\n",
       "Name: Amount, dtype: float64"
      ]
     },
     "execution_count": 11,
     "metadata": {},
     "output_type": "execute_result"
    }
   ],
   "source": [
    "fraud.Amount.describe()"
   ]
  },
  {
   "cell_type": "code",
   "execution_count": 12,
   "id": "0b8bfa1d",
   "metadata": {
    "execution": {
     "iopub.execute_input": "2024-03-03T06:02:03.596225Z",
     "iopub.status.busy": "2024-03-03T06:02:03.595817Z",
     "iopub.status.idle": "2024-03-03T06:02:03.609899Z",
     "shell.execute_reply": "2024-03-03T06:02:03.609194Z"
    },
    "papermill": {
     "duration": 0.024072,
     "end_time": "2024-03-03T06:02:03.612041",
     "exception": false,
     "start_time": "2024-03-03T06:02:03.587969",
     "status": "completed"
    },
    "tags": []
   },
   "outputs": [],
   "source": [
    "legit_sample=legit.sample(n=261)"
   ]
  },
  {
   "cell_type": "code",
   "execution_count": 13,
   "id": "e1fc55bc",
   "metadata": {
    "execution": {
     "iopub.execute_input": "2024-03-03T06:02:03.627318Z",
     "iopub.status.busy": "2024-03-03T06:02:03.626802Z",
     "iopub.status.idle": "2024-03-03T06:02:03.632644Z",
     "shell.execute_reply": "2024-03-03T06:02:03.631424Z"
    },
    "papermill": {
     "duration": 0.015722,
     "end_time": "2024-03-03T06:02:03.634661",
     "exception": false,
     "start_time": "2024-03-03T06:02:03.618939",
     "status": "completed"
    },
    "tags": []
   },
   "outputs": [],
   "source": [
    "new_data=pd.concat([legit_sample, fraud],axis=0)"
   ]
  },
  {
   "cell_type": "code",
   "execution_count": 14,
   "id": "105e4394",
   "metadata": {
    "execution": {
     "iopub.execute_input": "2024-03-03T06:02:03.651158Z",
     "iopub.status.busy": "2024-03-03T06:02:03.649784Z",
     "iopub.status.idle": "2024-03-03T06:02:03.672518Z",
     "shell.execute_reply": "2024-03-03T06:02:03.671157Z"
    },
    "papermill": {
     "duration": 0.032801,
     "end_time": "2024-03-03T06:02:03.674675",
     "exception": false,
     "start_time": "2024-03-03T06:02:03.641874",
     "status": "completed"
    },
    "tags": []
   },
   "outputs": [
    {
     "data": {
      "text/html": [
       "<div>\n",
       "<style scoped>\n",
       "    .dataframe tbody tr th:only-of-type {\n",
       "        vertical-align: middle;\n",
       "    }\n",
       "\n",
       "    .dataframe tbody tr th {\n",
       "        vertical-align: top;\n",
       "    }\n",
       "\n",
       "    .dataframe thead th {\n",
       "        text-align: right;\n",
       "    }\n",
       "</style>\n",
       "<table border=\"1\" class=\"dataframe\">\n",
       "  <thead>\n",
       "    <tr style=\"text-align: right;\">\n",
       "      <th></th>\n",
       "      <th>Time</th>\n",
       "      <th>V1</th>\n",
       "      <th>V2</th>\n",
       "      <th>V3</th>\n",
       "      <th>V4</th>\n",
       "      <th>V5</th>\n",
       "      <th>V6</th>\n",
       "      <th>V7</th>\n",
       "      <th>V8</th>\n",
       "      <th>V9</th>\n",
       "      <th>...</th>\n",
       "      <th>V21</th>\n",
       "      <th>V22</th>\n",
       "      <th>V23</th>\n",
       "      <th>V24</th>\n",
       "      <th>V25</th>\n",
       "      <th>V26</th>\n",
       "      <th>V27</th>\n",
       "      <th>V28</th>\n",
       "      <th>Amount</th>\n",
       "      <th>Class</th>\n",
       "    </tr>\n",
       "  </thead>\n",
       "  <tbody>\n",
       "    <tr>\n",
       "      <th>279863</th>\n",
       "      <td>169142.0</td>\n",
       "      <td>-1.927883</td>\n",
       "      <td>1.125653</td>\n",
       "      <td>-4.518331</td>\n",
       "      <td>1.749293</td>\n",
       "      <td>-1.566487</td>\n",
       "      <td>-2.010494</td>\n",
       "      <td>-0.882850</td>\n",
       "      <td>0.697211</td>\n",
       "      <td>-2.064945</td>\n",
       "      <td>...</td>\n",
       "      <td>0.778584</td>\n",
       "      <td>-0.319189</td>\n",
       "      <td>0.639419</td>\n",
       "      <td>-0.294885</td>\n",
       "      <td>0.537503</td>\n",
       "      <td>0.788395</td>\n",
       "      <td>0.292680</td>\n",
       "      <td>0.147968</td>\n",
       "      <td>390.00</td>\n",
       "      <td>1</td>\n",
       "    </tr>\n",
       "    <tr>\n",
       "      <th>280143</th>\n",
       "      <td>169347.0</td>\n",
       "      <td>1.378559</td>\n",
       "      <td>1.289381</td>\n",
       "      <td>-5.004247</td>\n",
       "      <td>1.411850</td>\n",
       "      <td>0.442581</td>\n",
       "      <td>-1.326536</td>\n",
       "      <td>-1.413170</td>\n",
       "      <td>0.248525</td>\n",
       "      <td>-1.127396</td>\n",
       "      <td>...</td>\n",
       "      <td>0.370612</td>\n",
       "      <td>0.028234</td>\n",
       "      <td>-0.145640</td>\n",
       "      <td>-0.081049</td>\n",
       "      <td>0.521875</td>\n",
       "      <td>0.739467</td>\n",
       "      <td>0.389152</td>\n",
       "      <td>0.186637</td>\n",
       "      <td>0.76</td>\n",
       "      <td>1</td>\n",
       "    </tr>\n",
       "    <tr>\n",
       "      <th>280149</th>\n",
       "      <td>169351.0</td>\n",
       "      <td>-0.676143</td>\n",
       "      <td>1.126366</td>\n",
       "      <td>-2.213700</td>\n",
       "      <td>0.468308</td>\n",
       "      <td>-1.120541</td>\n",
       "      <td>-0.003346</td>\n",
       "      <td>-2.234739</td>\n",
       "      <td>1.210158</td>\n",
       "      <td>-0.652250</td>\n",
       "      <td>...</td>\n",
       "      <td>0.751826</td>\n",
       "      <td>0.834108</td>\n",
       "      <td>0.190944</td>\n",
       "      <td>0.032070</td>\n",
       "      <td>-0.739695</td>\n",
       "      <td>0.471111</td>\n",
       "      <td>0.385107</td>\n",
       "      <td>0.194361</td>\n",
       "      <td>77.89</td>\n",
       "      <td>1</td>\n",
       "    </tr>\n",
       "    <tr>\n",
       "      <th>281144</th>\n",
       "      <td>169966.0</td>\n",
       "      <td>-3.113832</td>\n",
       "      <td>0.585864</td>\n",
       "      <td>-5.399730</td>\n",
       "      <td>1.817092</td>\n",
       "      <td>-0.840618</td>\n",
       "      <td>-2.943548</td>\n",
       "      <td>-2.208002</td>\n",
       "      <td>1.058733</td>\n",
       "      <td>-1.632333</td>\n",
       "      <td>...</td>\n",
       "      <td>0.583276</td>\n",
       "      <td>-0.269209</td>\n",
       "      <td>-0.456108</td>\n",
       "      <td>-0.183659</td>\n",
       "      <td>-0.328168</td>\n",
       "      <td>0.606116</td>\n",
       "      <td>0.884876</td>\n",
       "      <td>-0.253700</td>\n",
       "      <td>245.00</td>\n",
       "      <td>1</td>\n",
       "    </tr>\n",
       "    <tr>\n",
       "      <th>281674</th>\n",
       "      <td>170348.0</td>\n",
       "      <td>1.991976</td>\n",
       "      <td>0.158476</td>\n",
       "      <td>-2.583441</td>\n",
       "      <td>0.408670</td>\n",
       "      <td>1.151147</td>\n",
       "      <td>-0.096695</td>\n",
       "      <td>0.223050</td>\n",
       "      <td>-0.068384</td>\n",
       "      <td>0.577829</td>\n",
       "      <td>...</td>\n",
       "      <td>-0.164350</td>\n",
       "      <td>-0.295135</td>\n",
       "      <td>-0.072173</td>\n",
       "      <td>-0.450261</td>\n",
       "      <td>0.313267</td>\n",
       "      <td>-0.289617</td>\n",
       "      <td>0.002988</td>\n",
       "      <td>-0.015309</td>\n",
       "      <td>42.53</td>\n",
       "      <td>1</td>\n",
       "    </tr>\n",
       "  </tbody>\n",
       "</table>\n",
       "<p>5 rows × 31 columns</p>\n",
       "</div>"
      ],
      "text/plain": [
       "            Time        V1        V2        V3        V4        V5        V6  \\\n",
       "279863  169142.0 -1.927883  1.125653 -4.518331  1.749293 -1.566487 -2.010494   \n",
       "280143  169347.0  1.378559  1.289381 -5.004247  1.411850  0.442581 -1.326536   \n",
       "280149  169351.0 -0.676143  1.126366 -2.213700  0.468308 -1.120541 -0.003346   \n",
       "281144  169966.0 -3.113832  0.585864 -5.399730  1.817092 -0.840618 -2.943548   \n",
       "281674  170348.0  1.991976  0.158476 -2.583441  0.408670  1.151147 -0.096695   \n",
       "\n",
       "              V7        V8        V9  ...       V21       V22       V23  \\\n",
       "279863 -0.882850  0.697211 -2.064945  ...  0.778584 -0.319189  0.639419   \n",
       "280143 -1.413170  0.248525 -1.127396  ...  0.370612  0.028234 -0.145640   \n",
       "280149 -2.234739  1.210158 -0.652250  ...  0.751826  0.834108  0.190944   \n",
       "281144 -2.208002  1.058733 -1.632333  ...  0.583276 -0.269209 -0.456108   \n",
       "281674  0.223050 -0.068384  0.577829  ... -0.164350 -0.295135 -0.072173   \n",
       "\n",
       "             V24       V25       V26       V27       V28  Amount  Class  \n",
       "279863 -0.294885  0.537503  0.788395  0.292680  0.147968  390.00      1  \n",
       "280143 -0.081049  0.521875  0.739467  0.389152  0.186637    0.76      1  \n",
       "280149  0.032070 -0.739695  0.471111  0.385107  0.194361   77.89      1  \n",
       "281144 -0.183659 -0.328168  0.606116  0.884876 -0.253700  245.00      1  \n",
       "281674 -0.450261  0.313267 -0.289617  0.002988 -0.015309   42.53      1  \n",
       "\n",
       "[5 rows x 31 columns]"
      ]
     },
     "execution_count": 14,
     "metadata": {},
     "output_type": "execute_result"
    }
   ],
   "source": [
    "new_data.tail()"
   ]
  },
  {
   "cell_type": "code",
   "execution_count": 15,
   "id": "2135fd2a",
   "metadata": {
    "execution": {
     "iopub.execute_input": "2024-03-03T06:02:03.690884Z",
     "iopub.status.busy": "2024-03-03T06:02:03.689636Z",
     "iopub.status.idle": "2024-03-03T06:02:03.696635Z",
     "shell.execute_reply": "2024-03-03T06:02:03.695971Z"
    },
    "papermill": {
     "duration": 0.017213,
     "end_time": "2024-03-03T06:02:03.698944",
     "exception": false,
     "start_time": "2024-03-03T06:02:03.681731",
     "status": "completed"
    },
    "tags": []
   },
   "outputs": [
    {
     "data": {
      "text/plain": [
       "Class\n",
       "1    492\n",
       "0    261\n",
       "Name: count, dtype: int64"
      ]
     },
     "execution_count": 15,
     "metadata": {},
     "output_type": "execute_result"
    }
   ],
   "source": [
    "new_data['Class'].value_counts()"
   ]
  },
  {
   "cell_type": "code",
   "execution_count": 16,
   "id": "0b411db0",
   "metadata": {
    "execution": {
     "iopub.execute_input": "2024-03-03T06:02:03.715712Z",
     "iopub.status.busy": "2024-03-03T06:02:03.715208Z",
     "iopub.status.idle": "2024-03-03T06:02:03.736022Z",
     "shell.execute_reply": "2024-03-03T06:02:03.735340Z"
    },
    "papermill": {
     "duration": 0.031135,
     "end_time": "2024-03-03T06:02:03.737665",
     "exception": false,
     "start_time": "2024-03-03T06:02:03.706530",
     "status": "completed"
    },
    "tags": []
   },
   "outputs": [
    {
     "data": {
      "text/html": [
       "<div>\n",
       "<style scoped>\n",
       "    .dataframe tbody tr th:only-of-type {\n",
       "        vertical-align: middle;\n",
       "    }\n",
       "\n",
       "    .dataframe tbody tr th {\n",
       "        vertical-align: top;\n",
       "    }\n",
       "\n",
       "    .dataframe thead th {\n",
       "        text-align: right;\n",
       "    }\n",
       "</style>\n",
       "<table border=\"1\" class=\"dataframe\">\n",
       "  <thead>\n",
       "    <tr style=\"text-align: right;\">\n",
       "      <th></th>\n",
       "      <th>Time</th>\n",
       "      <th>V1</th>\n",
       "      <th>V2</th>\n",
       "      <th>V3</th>\n",
       "      <th>V4</th>\n",
       "      <th>V5</th>\n",
       "      <th>V6</th>\n",
       "      <th>V7</th>\n",
       "      <th>V8</th>\n",
       "      <th>V9</th>\n",
       "      <th>...</th>\n",
       "      <th>V20</th>\n",
       "      <th>V21</th>\n",
       "      <th>V22</th>\n",
       "      <th>V23</th>\n",
       "      <th>V24</th>\n",
       "      <th>V25</th>\n",
       "      <th>V26</th>\n",
       "      <th>V27</th>\n",
       "      <th>V28</th>\n",
       "      <th>Amount</th>\n",
       "    </tr>\n",
       "    <tr>\n",
       "      <th>Class</th>\n",
       "      <th></th>\n",
       "      <th></th>\n",
       "      <th></th>\n",
       "      <th></th>\n",
       "      <th></th>\n",
       "      <th></th>\n",
       "      <th></th>\n",
       "      <th></th>\n",
       "      <th></th>\n",
       "      <th></th>\n",
       "      <th></th>\n",
       "      <th></th>\n",
       "      <th></th>\n",
       "      <th></th>\n",
       "      <th></th>\n",
       "      <th></th>\n",
       "      <th></th>\n",
       "      <th></th>\n",
       "      <th></th>\n",
       "      <th></th>\n",
       "      <th></th>\n",
       "    </tr>\n",
       "  </thead>\n",
       "  <tbody>\n",
       "    <tr>\n",
       "      <th>0</th>\n",
       "      <td>96565.754789</td>\n",
       "      <td>-0.009290</td>\n",
       "      <td>0.105256</td>\n",
       "      <td>-0.054365</td>\n",
       "      <td>-0.109068</td>\n",
       "      <td>0.073301</td>\n",
       "      <td>0.075432</td>\n",
       "      <td>-0.020891</td>\n",
       "      <td>0.016823</td>\n",
       "      <td>0.040917</td>\n",
       "      <td>...</td>\n",
       "      <td>-0.003374</td>\n",
       "      <td>0.062140</td>\n",
       "      <td>-0.054199</td>\n",
       "      <td>0.048034</td>\n",
       "      <td>0.001167</td>\n",
       "      <td>0.025651</td>\n",
       "      <td>0.019910</td>\n",
       "      <td>0.012705</td>\n",
       "      <td>0.014477</td>\n",
       "      <td>76.621456</td>\n",
       "    </tr>\n",
       "    <tr>\n",
       "      <th>1</th>\n",
       "      <td>80746.806911</td>\n",
       "      <td>-4.771948</td>\n",
       "      <td>3.623778</td>\n",
       "      <td>-7.033281</td>\n",
       "      <td>4.542029</td>\n",
       "      <td>-3.151225</td>\n",
       "      <td>-1.397737</td>\n",
       "      <td>-5.568731</td>\n",
       "      <td>0.570636</td>\n",
       "      <td>-2.581123</td>\n",
       "      <td>...</td>\n",
       "      <td>0.372319</td>\n",
       "      <td>0.713588</td>\n",
       "      <td>0.014049</td>\n",
       "      <td>-0.040308</td>\n",
       "      <td>-0.105130</td>\n",
       "      <td>0.041449</td>\n",
       "      <td>0.051648</td>\n",
       "      <td>0.170575</td>\n",
       "      <td>0.075667</td>\n",
       "      <td>122.211321</td>\n",
       "    </tr>\n",
       "  </tbody>\n",
       "</table>\n",
       "<p>2 rows × 30 columns</p>\n",
       "</div>"
      ],
      "text/plain": [
       "               Time        V1        V2        V3        V4        V5  \\\n",
       "Class                                                                   \n",
       "0      96565.754789 -0.009290  0.105256 -0.054365 -0.109068  0.073301   \n",
       "1      80746.806911 -4.771948  3.623778 -7.033281  4.542029 -3.151225   \n",
       "\n",
       "             V6        V7        V8        V9  ...       V20       V21  \\\n",
       "Class                                          ...                       \n",
       "0      0.075432 -0.020891  0.016823  0.040917  ... -0.003374  0.062140   \n",
       "1     -1.397737 -5.568731  0.570636 -2.581123  ...  0.372319  0.713588   \n",
       "\n",
       "            V22       V23       V24       V25       V26       V27       V28  \\\n",
       "Class                                                                         \n",
       "0     -0.054199  0.048034  0.001167  0.025651  0.019910  0.012705  0.014477   \n",
       "1      0.014049 -0.040308 -0.105130  0.041449  0.051648  0.170575  0.075667   \n",
       "\n",
       "           Amount  \n",
       "Class              \n",
       "0       76.621456  \n",
       "1      122.211321  \n",
       "\n",
       "[2 rows x 30 columns]"
      ]
     },
     "execution_count": 16,
     "metadata": {},
     "output_type": "execute_result"
    }
   ],
   "source": [
    "new_data.groupby('Class').mean()"
   ]
  },
  {
   "cell_type": "code",
   "execution_count": 17,
   "id": "21ff5f3a",
   "metadata": {
    "execution": {
     "iopub.execute_input": "2024-03-03T06:02:03.754560Z",
     "iopub.status.busy": "2024-03-03T06:02:03.754018Z",
     "iopub.status.idle": "2024-03-03T06:02:03.759089Z",
     "shell.execute_reply": "2024-03-03T06:02:03.758102Z"
    },
    "papermill": {
     "duration": 0.016087,
     "end_time": "2024-03-03T06:02:03.761294",
     "exception": false,
     "start_time": "2024-03-03T06:02:03.745207",
     "status": "completed"
    },
    "tags": []
   },
   "outputs": [],
   "source": [
    "x=new_data.drop(columns='Class',axis=1)\n",
    "y=new_data['Class']"
   ]
  },
  {
   "cell_type": "code",
   "execution_count": 18,
   "id": "5afa7108",
   "metadata": {
    "execution": {
     "iopub.execute_input": "2024-03-03T06:02:03.778108Z",
     "iopub.status.busy": "2024-03-03T06:02:03.777523Z",
     "iopub.status.idle": "2024-03-03T06:02:03.791116Z",
     "shell.execute_reply": "2024-03-03T06:02:03.789628Z"
    },
    "papermill": {
     "duration": 0.024701,
     "end_time": "2024-03-03T06:02:03.793447",
     "exception": false,
     "start_time": "2024-03-03T06:02:03.768746",
     "status": "completed"
    },
    "tags": []
   },
   "outputs": [
    {
     "name": "stdout",
     "output_type": "stream",
     "text": [
      "            Time        V1        V2        V3        V4        V5        V6  \\\n",
      "255401  157207.0  2.040253 -0.156153 -1.442010  0.184371 -0.081230 -1.436736   \n",
      "281097  169939.0  2.251586 -1.542522 -0.915144 -1.773933 -1.087976  0.161795   \n",
      "14225    25274.0 -0.301999  0.937064  1.274188  0.395835  0.441921  0.136596   \n",
      "73378    55108.0 -0.277992  0.910926 -0.355936  0.420011  2.626933  3.790132   \n",
      "245124  152615.0 -1.594663 -0.831629  1.657769  0.463729  1.687080  0.452686   \n",
      "...          ...       ...       ...       ...       ...       ...       ...   \n",
      "279863  169142.0 -1.927883  1.125653 -4.518331  1.749293 -1.566487 -2.010494   \n",
      "280143  169347.0  1.378559  1.289381 -5.004247  1.411850  0.442581 -1.326536   \n",
      "280149  169351.0 -0.676143  1.126366 -2.213700  0.468308 -1.120541 -0.003346   \n",
      "281144  169966.0 -3.113832  0.585864 -5.399730  1.817092 -0.840618 -2.943548   \n",
      "281674  170348.0  1.991976  0.158476 -2.583441  0.408670  1.151147 -0.096695   \n",
      "\n",
      "              V7        V8        V9  ...       V20       V21       V22  \\\n",
      "255401  0.360997 -0.389531  0.775250  ... -0.247224 -0.137532 -0.296119   \n",
      "281097 -1.445857  0.101114 -1.203211  ... -0.401945 -0.122441  0.073956   \n",
      "14225   0.398760  0.186586 -0.901107  ...  0.094444 -0.112554 -0.327667   \n",
      "73378   0.073207  0.989263 -0.473879  ...  0.247020 -0.278342 -0.795265   \n",
      "245124 -0.506149  0.627023  0.109009  ...  0.167220  0.497948  1.090942   \n",
      "...          ...       ...       ...  ...       ...       ...       ...   \n",
      "279863 -0.882850  0.697211 -2.064945  ...  1.252967  0.778584 -0.319189   \n",
      "280143 -1.413170  0.248525 -1.127396  ...  0.226138  0.370612  0.028234   \n",
      "280149 -2.234739  1.210158 -0.652250  ...  0.247968  0.751826  0.834108   \n",
      "281144 -2.208002  1.058733 -1.632333  ...  0.306271  0.583276 -0.269209   \n",
      "281674  0.223050 -0.068384  0.577829  ... -0.017652 -0.164350 -0.295135   \n",
      "\n",
      "             V23       V24       V25       V26       V27       V28  Amount  \n",
      "255401  0.180725  0.039753 -0.002966 -0.080753 -0.058829 -0.060659   24.05  \n",
      "281097  0.232106  0.186803 -0.268321 -0.195706  0.015778 -0.052260   24.00  \n",
      "14225  -0.007472 -0.342204 -0.666893  0.198273  0.135205  0.141836    0.99  \n",
      "73378  -0.062616  0.852805 -0.159454 -0.442282  0.197784  0.183641   29.90  \n",
      "245124  0.138442 -1.078871 -0.106054 -0.440768  0.151039  0.160737   59.00  \n",
      "...          ...       ...       ...       ...       ...       ...     ...  \n",
      "279863  0.639419 -0.294885  0.537503  0.788395  0.292680  0.147968  390.00  \n",
      "280143 -0.145640 -0.081049  0.521875  0.739467  0.389152  0.186637    0.76  \n",
      "280149  0.190944  0.032070 -0.739695  0.471111  0.385107  0.194361   77.89  \n",
      "281144 -0.456108 -0.183659 -0.328168  0.606116  0.884876 -0.253700  245.00  \n",
      "281674 -0.072173 -0.450261  0.313267 -0.289617  0.002988 -0.015309   42.53  \n",
      "\n",
      "[753 rows x 30 columns]\n"
     ]
    }
   ],
   "source": [
    "print(x)"
   ]
  },
  {
   "cell_type": "code",
   "execution_count": 19,
   "id": "e5a1efe7",
   "metadata": {
    "execution": {
     "iopub.execute_input": "2024-03-03T06:02:03.810121Z",
     "iopub.status.busy": "2024-03-03T06:02:03.809750Z",
     "iopub.status.idle": "2024-03-03T06:02:03.815153Z",
     "shell.execute_reply": "2024-03-03T06:02:03.814314Z"
    },
    "papermill": {
     "duration": 0.015926,
     "end_time": "2024-03-03T06:02:03.817048",
     "exception": false,
     "start_time": "2024-03-03T06:02:03.801122",
     "status": "completed"
    },
    "tags": []
   },
   "outputs": [
    {
     "name": "stdout",
     "output_type": "stream",
     "text": [
      "255401    0\n",
      "281097    0\n",
      "14225     0\n",
      "73378     0\n",
      "245124    0\n",
      "         ..\n",
      "279863    1\n",
      "280143    1\n",
      "280149    1\n",
      "281144    1\n",
      "281674    1\n",
      "Name: Class, Length: 753, dtype: int64\n"
     ]
    }
   ],
   "source": [
    "print(y)"
   ]
  },
  {
   "cell_type": "code",
   "execution_count": 20,
   "id": "6f170045",
   "metadata": {
    "execution": {
     "iopub.execute_input": "2024-03-03T06:02:03.832920Z",
     "iopub.status.busy": "2024-03-03T06:02:03.832580Z",
     "iopub.status.idle": "2024-03-03T06:02:03.841352Z",
     "shell.execute_reply": "2024-03-03T06:02:03.840484Z"
    },
    "papermill": {
     "duration": 0.018924,
     "end_time": "2024-03-03T06:02:03.843346",
     "exception": false,
     "start_time": "2024-03-03T06:02:03.824422",
     "status": "completed"
    },
    "tags": []
   },
   "outputs": [],
   "source": [
    "from sklearn.model_selection import train_test_split\n",
    "X_train, X_test, Y_train, Y_test = train_test_split(x,y, test_size=0.2,stratify=y, random_state=42)"
   ]
  },
  {
   "cell_type": "code",
   "execution_count": 21,
   "id": "1874dffd",
   "metadata": {
    "execution": {
     "iopub.execute_input": "2024-03-03T06:02:03.860432Z",
     "iopub.status.busy": "2024-03-03T06:02:03.859458Z",
     "iopub.status.idle": "2024-03-03T06:02:03.864877Z",
     "shell.execute_reply": "2024-03-03T06:02:03.863782Z"
    },
    "papermill": {
     "duration": 0.015549,
     "end_time": "2024-03-03T06:02:03.866622",
     "exception": false,
     "start_time": "2024-03-03T06:02:03.851073",
     "status": "completed"
    },
    "tags": []
   },
   "outputs": [
    {
     "name": "stdout",
     "output_type": "stream",
     "text": [
      "(753, 30) (602, 30) (151, 30)\n"
     ]
    }
   ],
   "source": [
    "print(x.shape, X_train.shape, X_test.shape)"
   ]
  },
  {
   "cell_type": "code",
   "execution_count": 22,
   "id": "25dfe8db",
   "metadata": {
    "execution": {
     "iopub.execute_input": "2024-03-03T06:02:03.883646Z",
     "iopub.status.busy": "2024-03-03T06:02:03.883281Z",
     "iopub.status.idle": "2024-03-03T06:02:03.888382Z",
     "shell.execute_reply": "2024-03-03T06:02:03.887326Z"
    },
    "papermill": {
     "duration": 0.016055,
     "end_time": "2024-03-03T06:02:03.890608",
     "exception": false,
     "start_time": "2024-03-03T06:02:03.874553",
     "status": "completed"
    },
    "tags": []
   },
   "outputs": [],
   "source": [
    "model=LogisticRegression()"
   ]
  },
  {
   "cell_type": "code",
   "execution_count": 23,
   "id": "165156a3",
   "metadata": {
    "execution": {
     "iopub.execute_input": "2024-03-03T06:02:03.908200Z",
     "iopub.status.busy": "2024-03-03T06:02:03.907371Z",
     "iopub.status.idle": "2024-03-03T06:02:03.937700Z",
     "shell.execute_reply": "2024-03-03T06:02:03.936971Z"
    },
    "papermill": {
     "duration": 0.040881,
     "end_time": "2024-03-03T06:02:03.939413",
     "exception": false,
     "start_time": "2024-03-03T06:02:03.898532",
     "status": "completed"
    },
    "tags": []
   },
   "outputs": [
    {
     "data": {
      "text/html": [
       "<style>#sk-container-id-1 {color: black;background-color: white;}#sk-container-id-1 pre{padding: 0;}#sk-container-id-1 div.sk-toggleable {background-color: white;}#sk-container-id-1 label.sk-toggleable__label {cursor: pointer;display: block;width: 100%;margin-bottom: 0;padding: 0.3em;box-sizing: border-box;text-align: center;}#sk-container-id-1 label.sk-toggleable__label-arrow:before {content: \"▸\";float: left;margin-right: 0.25em;color: #696969;}#sk-container-id-1 label.sk-toggleable__label-arrow:hover:before {color: black;}#sk-container-id-1 div.sk-estimator:hover label.sk-toggleable__label-arrow:before {color: black;}#sk-container-id-1 div.sk-toggleable__content {max-height: 0;max-width: 0;overflow: hidden;text-align: left;background-color: #f0f8ff;}#sk-container-id-1 div.sk-toggleable__content pre {margin: 0.2em;color: black;border-radius: 0.25em;background-color: #f0f8ff;}#sk-container-id-1 input.sk-toggleable__control:checked~div.sk-toggleable__content {max-height: 200px;max-width: 100%;overflow: auto;}#sk-container-id-1 input.sk-toggleable__control:checked~label.sk-toggleable__label-arrow:before {content: \"▾\";}#sk-container-id-1 div.sk-estimator input.sk-toggleable__control:checked~label.sk-toggleable__label {background-color: #d4ebff;}#sk-container-id-1 div.sk-label input.sk-toggleable__control:checked~label.sk-toggleable__label {background-color: #d4ebff;}#sk-container-id-1 input.sk-hidden--visually {border: 0;clip: rect(1px 1px 1px 1px);clip: rect(1px, 1px, 1px, 1px);height: 1px;margin: -1px;overflow: hidden;padding: 0;position: absolute;width: 1px;}#sk-container-id-1 div.sk-estimator {font-family: monospace;background-color: #f0f8ff;border: 1px dotted black;border-radius: 0.25em;box-sizing: border-box;margin-bottom: 0.5em;}#sk-container-id-1 div.sk-estimator:hover {background-color: #d4ebff;}#sk-container-id-1 div.sk-parallel-item::after {content: \"\";width: 100%;border-bottom: 1px solid gray;flex-grow: 1;}#sk-container-id-1 div.sk-label:hover label.sk-toggleable__label {background-color: #d4ebff;}#sk-container-id-1 div.sk-serial::before {content: \"\";position: absolute;border-left: 1px solid gray;box-sizing: border-box;top: 0;bottom: 0;left: 50%;z-index: 0;}#sk-container-id-1 div.sk-serial {display: flex;flex-direction: column;align-items: center;background-color: white;padding-right: 0.2em;padding-left: 0.2em;position: relative;}#sk-container-id-1 div.sk-item {position: relative;z-index: 1;}#sk-container-id-1 div.sk-parallel {display: flex;align-items: stretch;justify-content: center;background-color: white;position: relative;}#sk-container-id-1 div.sk-item::before, #sk-container-id-1 div.sk-parallel-item::before {content: \"\";position: absolute;border-left: 1px solid gray;box-sizing: border-box;top: 0;bottom: 0;left: 50%;z-index: -1;}#sk-container-id-1 div.sk-parallel-item {display: flex;flex-direction: column;z-index: 1;position: relative;background-color: white;}#sk-container-id-1 div.sk-parallel-item:first-child::after {align-self: flex-end;width: 50%;}#sk-container-id-1 div.sk-parallel-item:last-child::after {align-self: flex-start;width: 50%;}#sk-container-id-1 div.sk-parallel-item:only-child::after {width: 0;}#sk-container-id-1 div.sk-dashed-wrapped {border: 1px dashed gray;margin: 0 0.4em 0.5em 0.4em;box-sizing: border-box;padding-bottom: 0.4em;background-color: white;}#sk-container-id-1 div.sk-label label {font-family: monospace;font-weight: bold;display: inline-block;line-height: 1.2em;}#sk-container-id-1 div.sk-label-container {text-align: center;}#sk-container-id-1 div.sk-container {/* jupyter's `normalize.less` sets `[hidden] { display: none; }` but bootstrap.min.css set `[hidden] { display: none !important; }` so we also need the `!important` here to be able to override the default hidden behavior on the sphinx rendered scikit-learn.org. See: https://github.com/scikit-learn/scikit-learn/issues/21755 */display: inline-block !important;position: relative;}#sk-container-id-1 div.sk-text-repr-fallback {display: none;}</style><div id=\"sk-container-id-1\" class=\"sk-top-container\"><div class=\"sk-text-repr-fallback\"><pre>LogisticRegression()</pre><b>In a Jupyter environment, please rerun this cell to show the HTML representation or trust the notebook. <br />On GitHub, the HTML representation is unable to render, please try loading this page with nbviewer.org.</b></div><div class=\"sk-container\" hidden><div class=\"sk-item\"><div class=\"sk-estimator sk-toggleable\"><input class=\"sk-toggleable__control sk-hidden--visually\" id=\"sk-estimator-id-1\" type=\"checkbox\" checked><label for=\"sk-estimator-id-1\" class=\"sk-toggleable__label sk-toggleable__label-arrow\">LogisticRegression</label><div class=\"sk-toggleable__content\"><pre>LogisticRegression()</pre></div></div></div></div></div>"
      ],
      "text/plain": [
       "LogisticRegression()"
      ]
     },
     "execution_count": 23,
     "metadata": {},
     "output_type": "execute_result"
    }
   ],
   "source": [
    "model.fit(X_train,Y_train)"
   ]
  },
  {
   "cell_type": "code",
   "execution_count": 24,
   "id": "f9ecaa9c",
   "metadata": {
    "execution": {
     "iopub.execute_input": "2024-03-03T06:02:03.960270Z",
     "iopub.status.busy": "2024-03-03T06:02:03.959942Z",
     "iopub.status.idle": "2024-03-03T06:02:03.969773Z",
     "shell.execute_reply": "2024-03-03T06:02:03.968569Z"
    },
    "papermill": {
     "duration": 0.022704,
     "end_time": "2024-03-03T06:02:03.971950",
     "exception": false,
     "start_time": "2024-03-03T06:02:03.949246",
     "status": "completed"
    },
    "tags": []
   },
   "outputs": [],
   "source": [
    "X_train_Prediction=model.predict(X_train)\n",
    "training_data_accuracy=accuracy_score(X_train_Prediction,Y_train)"
   ]
  },
  {
   "cell_type": "code",
   "execution_count": 25,
   "id": "76a8d44a",
   "metadata": {
    "execution": {
     "iopub.execute_input": "2024-03-03T06:02:03.992793Z",
     "iopub.status.busy": "2024-03-03T06:02:03.992460Z",
     "iopub.status.idle": "2024-03-03T06:02:03.996595Z",
     "shell.execute_reply": "2024-03-03T06:02:03.995951Z"
    },
    "papermill": {
     "duration": 0.017672,
     "end_time": "2024-03-03T06:02:03.999433",
     "exception": false,
     "start_time": "2024-03-03T06:02:03.981761",
     "status": "completed"
    },
    "tags": []
   },
   "outputs": [
    {
     "name": "stdout",
     "output_type": "stream",
     "text": [
      "Accuracy on training data:92.36%\n"
     ]
    }
   ],
   "source": [
    "print('Accuracy on training data:{:.2f}%'.format(training_data_accuracy*100))"
   ]
  },
  {
   "cell_type": "code",
   "execution_count": 26,
   "id": "74429f8f",
   "metadata": {
    "execution": {
     "iopub.execute_input": "2024-03-03T06:02:04.020860Z",
     "iopub.status.busy": "2024-03-03T06:02:04.020545Z",
     "iopub.status.idle": "2024-03-03T06:02:04.027422Z",
     "shell.execute_reply": "2024-03-03T06:02:04.026736Z"
    },
    "papermill": {
     "duration": 0.0198,
     "end_time": "2024-03-03T06:02:04.029065",
     "exception": false,
     "start_time": "2024-03-03T06:02:04.009265",
     "status": "completed"
    },
    "tags": []
   },
   "outputs": [],
   "source": [
    "X_test_prediction=model.predict(X_test)\n",
    "test_data_accuracy=accuracy_score(X_test_prediction,Y_test)"
   ]
  },
  {
   "cell_type": "code",
   "execution_count": 27,
   "id": "9acd3ae5",
   "metadata": {
    "execution": {
     "iopub.execute_input": "2024-03-03T06:02:04.052631Z",
     "iopub.status.busy": "2024-03-03T06:02:04.052296Z",
     "iopub.status.idle": "2024-03-03T06:02:04.056477Z",
     "shell.execute_reply": "2024-03-03T06:02:04.055825Z"
    },
    "papermill": {
     "duration": 0.019006,
     "end_time": "2024-03-03T06:02:04.059572",
     "exception": false,
     "start_time": "2024-03-03T06:02:04.040566",
     "status": "completed"
    },
    "tags": []
   },
   "outputs": [
    {
     "name": "stdout",
     "output_type": "stream",
     "text": [
      "Accuracy on Test data :92.36%\n"
     ]
    }
   ],
   "source": [
    "print('Accuracy on Test data :{:.2f}%'.format(training_data_accuracy*100))"
   ]
  },
  {
   "cell_type": "code",
   "execution_count": 28,
   "id": "face9890",
   "metadata": {
    "execution": {
     "iopub.execute_input": "2024-03-03T06:02:04.081522Z",
     "iopub.status.busy": "2024-03-03T06:02:04.081167Z",
     "iopub.status.idle": "2024-03-03T06:02:04.095782Z",
     "shell.execute_reply": "2024-03-03T06:02:04.094586Z"
    },
    "papermill": {
     "duration": 0.02889,
     "end_time": "2024-03-03T06:02:04.098642",
     "exception": false,
     "start_time": "2024-03-03T06:02:04.069752",
     "status": "completed"
    },
    "tags": []
   },
   "outputs": [
    {
     "name": "stdout",
     "output_type": "stream",
     "text": [
      "              precision    recall  f1-score   support\n",
      "\n",
      "           0       0.82      0.88      0.85        52\n",
      "           1       0.94      0.90      0.92        99\n",
      "\n",
      "    accuracy                           0.89       151\n",
      "   macro avg       0.88      0.89      0.88       151\n",
      "weighted avg       0.90      0.89      0.89       151\n",
      "\n"
     ]
    }
   ],
   "source": [
    "print (classification_report(Y_test, model.predict(X_test)))"
   ]
  }
 ],
 "metadata": {
  "kaggle": {
   "accelerator": "none",
   "dataSources": [
    {
     "datasetId": 310,
     "sourceId": 23498,
     "sourceType": "datasetVersion"
    }
   ],
   "dockerImageVersionId": 30664,
   "isGpuEnabled": false,
   "isInternetEnabled": false,
   "language": "python",
   "sourceType": "notebook"
  },
  "kernelspec": {
   "display_name": "Python 3",
   "language": "python",
   "name": "python3"
  },
  "language_info": {
   "codemirror_mode": {
    "name": "ipython",
    "version": 3
   },
   "file_extension": ".py",
   "mimetype": "text/x-python",
   "name": "python",
   "nbconvert_exporter": "python",
   "pygments_lexer": "ipython3",
   "version": "3.10.13"
  },
  "papermill": {
   "default_parameters": {},
   "duration": 10.882587,
   "end_time": "2024-03-03T06:02:04.728080",
   "environment_variables": {},
   "exception": null,
   "input_path": "__notebook__.ipynb",
   "output_path": "__notebook__.ipynb",
   "parameters": {},
   "start_time": "2024-03-03T06:01:53.845493",
   "version": "2.5.0"
  }
 },
 "nbformat": 4,
 "nbformat_minor": 5
}
